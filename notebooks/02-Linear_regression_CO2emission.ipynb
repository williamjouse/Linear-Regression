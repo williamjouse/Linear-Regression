{
 "cells": [
  {
   "cell_type": "markdown",
   "id": "e214e0e6",
   "metadata": {},
   "source": [
    "\n",
    "\n",
    "# Simple Linear Regression Using Scikit-learn\n",
    "\n",
    "\n",
    "## Introduction\n",
    "\n",
    "In this project, we study a simple linear regression using the machine learning library, scikit-learn. Our analysis uses the [dataset](https://open.canada.ca/data/en/dataset/98f1a129-f628-4ce4-b24d-6f16bf24dd64) about model-specific fuel consumption ratings and estimated carbon dioxide emissions for new light-duty vehicles for retail sale in Canada. \n",
    "\n",
    "This project is divided in the following way:\n",
    "\n",
    "1. Load and Wrangling Data\n",
    "2. Linear Regression\n",
    "3. Conclusions"
   ]
  },
  {
   "cell_type": "code",
   "execution_count": 1,
   "id": "b992518d",
   "metadata": {},
   "outputs": [],
   "source": [
    "# Imported some important libraries.\n",
    "import numpy as np\n",
    "import pandas as pd\n",
    "\n",
    "import matplotlib.pyplot as plt\n",
    "import seaborn as sns\n",
    "\n",
    "from sklearn.linear_model import LinearRegression\n",
    "from sklearn.model_selection import train_test_split\n",
    "from sklearn import metrics\n",
    "\n",
    "%matplotlib inline"
   ]
  },
  {
   "cell_type": "markdown",
   "id": "783ea345",
   "metadata": {},
   "source": [
    "## Load and Wrangling Data\n",
    "\n",
    "After import libraries to analyse data, we load the first five rows of our dataset."
   ]
  },
  {
   "cell_type": "code",
   "execution_count": 2,
   "id": "897bfe9c",
   "metadata": {},
   "outputs": [
    {
     "data": {
      "text/html": [
       "<div>\n",
       "<style scoped>\n",
       "    .dataframe tbody tr th:only-of-type {\n",
       "        vertical-align: middle;\n",
       "    }\n",
       "\n",
       "    .dataframe tbody tr th {\n",
       "        vertical-align: top;\n",
       "    }\n",
       "\n",
       "    .dataframe thead th {\n",
       "        text-align: right;\n",
       "    }\n",
       "</style>\n",
       "<table border=\"1\" class=\"dataframe\">\n",
       "  <thead>\n",
       "    <tr style=\"text-align: right;\">\n",
       "      <th></th>\n",
       "      <th>Model Year</th>\n",
       "      <th>Make</th>\n",
       "      <th>Model</th>\n",
       "      <th>Vehicle Class</th>\n",
       "      <th>Engine Size (L)</th>\n",
       "      <th>Cylinders</th>\n",
       "      <th>Transmission</th>\n",
       "      <th>Fuel Type</th>\n",
       "      <th>Fuel Consumption City (L/100 km)</th>\n",
       "      <th>Hwy (L/100 km)</th>\n",
       "      <th>Comb (L/100 km)</th>\n",
       "      <th>Comb (mpg)</th>\n",
       "      <th>CO2 Emissions (g/km)</th>\n",
       "      <th>CO2 Rating</th>\n",
       "      <th>Smog Rating</th>\n",
       "    </tr>\n",
       "  </thead>\n",
       "  <tbody>\n",
       "    <tr>\n",
       "      <th>0</th>\n",
       "      <td>2023</td>\n",
       "      <td>Acura</td>\n",
       "      <td>Integra</td>\n",
       "      <td>Full-size</td>\n",
       "      <td>1.5</td>\n",
       "      <td>4</td>\n",
       "      <td>AV7</td>\n",
       "      <td>Z</td>\n",
       "      <td>7.9</td>\n",
       "      <td>6.3</td>\n",
       "      <td>7.2</td>\n",
       "      <td>39</td>\n",
       "      <td>167</td>\n",
       "      <td>6</td>\n",
       "      <td>7</td>\n",
       "    </tr>\n",
       "    <tr>\n",
       "      <th>1</th>\n",
       "      <td>2023</td>\n",
       "      <td>Acura</td>\n",
       "      <td>Integra A-SPEC</td>\n",
       "      <td>Full-size</td>\n",
       "      <td>1.5</td>\n",
       "      <td>4</td>\n",
       "      <td>AV7</td>\n",
       "      <td>Z</td>\n",
       "      <td>8.1</td>\n",
       "      <td>6.5</td>\n",
       "      <td>7.4</td>\n",
       "      <td>38</td>\n",
       "      <td>172</td>\n",
       "      <td>6</td>\n",
       "      <td>7</td>\n",
       "    </tr>\n",
       "    <tr>\n",
       "      <th>2</th>\n",
       "      <td>2023</td>\n",
       "      <td>Acura</td>\n",
       "      <td>Integra A-SPEC</td>\n",
       "      <td>Full-size</td>\n",
       "      <td>1.5</td>\n",
       "      <td>4</td>\n",
       "      <td>M6</td>\n",
       "      <td>Z</td>\n",
       "      <td>8.9</td>\n",
       "      <td>6.5</td>\n",
       "      <td>7.8</td>\n",
       "      <td>36</td>\n",
       "      <td>181</td>\n",
       "      <td>6</td>\n",
       "      <td>6</td>\n",
       "    </tr>\n",
       "    <tr>\n",
       "      <th>3</th>\n",
       "      <td>2023</td>\n",
       "      <td>Acura</td>\n",
       "      <td>MDX SH-AWD</td>\n",
       "      <td>SUV: Small</td>\n",
       "      <td>3.5</td>\n",
       "      <td>6</td>\n",
       "      <td>AS10</td>\n",
       "      <td>Z</td>\n",
       "      <td>12.6</td>\n",
       "      <td>9.4</td>\n",
       "      <td>11.2</td>\n",
       "      <td>25</td>\n",
       "      <td>263</td>\n",
       "      <td>4</td>\n",
       "      <td>5</td>\n",
       "    </tr>\n",
       "    <tr>\n",
       "      <th>4</th>\n",
       "      <td>2023</td>\n",
       "      <td>Acura</td>\n",
       "      <td>MDX SH-AWD Type S</td>\n",
       "      <td>SUV: Standard</td>\n",
       "      <td>3.0</td>\n",
       "      <td>6</td>\n",
       "      <td>AS10</td>\n",
       "      <td>Z</td>\n",
       "      <td>13.8</td>\n",
       "      <td>11.2</td>\n",
       "      <td>12.4</td>\n",
       "      <td>23</td>\n",
       "      <td>291</td>\n",
       "      <td>4</td>\n",
       "      <td>5</td>\n",
       "    </tr>\n",
       "  </tbody>\n",
       "</table>\n",
       "</div>"
      ],
      "text/plain": [
       "   Model Year   Make              Model  Vehicle Class  Engine Size (L)  \\\n",
       "0        2023  Acura            Integra      Full-size              1.5   \n",
       "1        2023  Acura     Integra A-SPEC      Full-size              1.5   \n",
       "2        2023  Acura     Integra A-SPEC      Full-size              1.5   \n",
       "3        2023  Acura         MDX SH-AWD     SUV: Small              3.5   \n",
       "4        2023  Acura  MDX SH-AWD Type S  SUV: Standard              3.0   \n",
       "\n",
       "   Cylinders Transmission Fuel Type  Fuel Consumption City (L/100 km)  \\\n",
       "0          4          AV7         Z                               7.9   \n",
       "1          4          AV7         Z                               8.1   \n",
       "2          4           M6         Z                               8.9   \n",
       "3          6         AS10         Z                              12.6   \n",
       "4          6         AS10         Z                              13.8   \n",
       "\n",
       "   Hwy (L/100 km)  Comb (L/100 km)  Comb (mpg)  CO2 Emissions (g/km)  \\\n",
       "0             6.3              7.2          39                   167   \n",
       "1             6.5              7.4          38                   172   \n",
       "2             6.5              7.8          36                   181   \n",
       "3             9.4             11.2          25                   263   \n",
       "4            11.2             12.4          23                   291   \n",
       "\n",
       "   CO2 Rating  Smog Rating  \n",
       "0           6            7  \n",
       "1           6            7  \n",
       "2           6            6  \n",
       "3           4            5  \n",
       "4           4            5  "
      ]
     },
     "execution_count": 2,
     "metadata": {},
     "output_type": "execute_result"
    }
   ],
   "source": [
    "# Load csv file.\n",
    "data = pd.read_csv(\"../data/raw/MY2023_Fuel_Consumption_Ratings.csv\", skiprows=0)\n",
    "data.head(5)"
   ]
  },
  {
   "cell_type": "code",
   "execution_count": 3,
   "id": "bf9bbe7a",
   "metadata": {
    "scrolled": false
   },
   "outputs": [
    {
     "name": "stdout",
     "output_type": "stream",
     "text": [
      "<class 'pandas.core.frame.DataFrame'>\n",
      "RangeIndex: 821 entries, 0 to 820\n",
      "Data columns (total 15 columns):\n",
      " #   Column                            Non-Null Count  Dtype  \n",
      "---  ------                            --------------  -----  \n",
      " 0   Model Year                        821 non-null    int64  \n",
      " 1   Make                              821 non-null    object \n",
      " 2   Model                             821 non-null    object \n",
      " 3   Vehicle Class                     821 non-null    object \n",
      " 4   Engine Size (L)                   821 non-null    float64\n",
      " 5   Cylinders                         821 non-null    int64  \n",
      " 6   Transmission                      821 non-null    object \n",
      " 7   Fuel Type                         821 non-null    object \n",
      " 8   Fuel Consumption City (L/100 km)  821 non-null    float64\n",
      " 9   Hwy (L/100 km)                    821 non-null    float64\n",
      " 10  Comb (L/100 km)                   821 non-null    float64\n",
      " 11  Comb (mpg)                        821 non-null    int64  \n",
      " 12  CO2 Emissions (g/km)              821 non-null    int64  \n",
      " 13  CO2 Rating                        821 non-null    int64  \n",
      " 14  Smog Rating                       821 non-null    int64  \n",
      "dtypes: float64(4), int64(6), object(5)\n",
      "memory usage: 96.3+ KB\n"
     ]
    }
   ],
   "source": [
    "# information about a data including the index dtype and columns, non-null values and memory usage.\n",
    "data.info()"
   ]
  },
  {
   "cell_type": "code",
   "execution_count": 4,
   "id": "ebdba98d",
   "metadata": {},
   "outputs": [
    {
     "data": {
      "text/plain": [
       "(821, 15)"
      ]
     },
     "execution_count": 4,
     "metadata": {},
     "output_type": "execute_result"
    }
   ],
   "source": [
    "data.shape"
   ]
  },
  {
   "cell_type": "code",
   "execution_count": 5,
   "id": "ddf92fc5",
   "metadata": {
    "scrolled": true
   },
   "outputs": [
    {
     "data": {
      "text/html": [
       "<div>\n",
       "<style scoped>\n",
       "    .dataframe tbody tr th:only-of-type {\n",
       "        vertical-align: middle;\n",
       "    }\n",
       "\n",
       "    .dataframe tbody tr th {\n",
       "        vertical-align: top;\n",
       "    }\n",
       "\n",
       "    .dataframe thead th {\n",
       "        text-align: right;\n",
       "    }\n",
       "</style>\n",
       "<table border=\"1\" class=\"dataframe\">\n",
       "  <thead>\n",
       "    <tr style=\"text-align: right;\">\n",
       "      <th></th>\n",
       "      <th>model_year</th>\n",
       "      <th>make</th>\n",
       "      <th>models</th>\n",
       "      <th>vehicle_class</th>\n",
       "      <th>engine_size</th>\n",
       "      <th>cylinders</th>\n",
       "      <th>trasmission</th>\n",
       "      <th>fuel_type</th>\n",
       "      <th>fuel_consumption_city</th>\n",
       "      <th>fuel_consumption_hwy</th>\n",
       "      <th>fuel_consumption_comb</th>\n",
       "      <th>fuel_consumption_comb_mpg</th>\n",
       "      <th>co2_emissions</th>\n",
       "      <th>co2_rating</th>\n",
       "      <th>smog_rating</th>\n",
       "    </tr>\n",
       "  </thead>\n",
       "  <tbody>\n",
       "    <tr>\n",
       "      <th>0</th>\n",
       "      <td>2023</td>\n",
       "      <td>Acura</td>\n",
       "      <td>Integra</td>\n",
       "      <td>Full-size</td>\n",
       "      <td>1.5</td>\n",
       "      <td>4</td>\n",
       "      <td>AV7</td>\n",
       "      <td>Z</td>\n",
       "      <td>7.9</td>\n",
       "      <td>6.3</td>\n",
       "      <td>7.2</td>\n",
       "      <td>39</td>\n",
       "      <td>167</td>\n",
       "      <td>6</td>\n",
       "      <td>7</td>\n",
       "    </tr>\n",
       "    <tr>\n",
       "      <th>1</th>\n",
       "      <td>2023</td>\n",
       "      <td>Acura</td>\n",
       "      <td>Integra A-SPEC</td>\n",
       "      <td>Full-size</td>\n",
       "      <td>1.5</td>\n",
       "      <td>4</td>\n",
       "      <td>AV7</td>\n",
       "      <td>Z</td>\n",
       "      <td>8.1</td>\n",
       "      <td>6.5</td>\n",
       "      <td>7.4</td>\n",
       "      <td>38</td>\n",
       "      <td>172</td>\n",
       "      <td>6</td>\n",
       "      <td>7</td>\n",
       "    </tr>\n",
       "    <tr>\n",
       "      <th>2</th>\n",
       "      <td>2023</td>\n",
       "      <td>Acura</td>\n",
       "      <td>Integra A-SPEC</td>\n",
       "      <td>Full-size</td>\n",
       "      <td>1.5</td>\n",
       "      <td>4</td>\n",
       "      <td>M6</td>\n",
       "      <td>Z</td>\n",
       "      <td>8.9</td>\n",
       "      <td>6.5</td>\n",
       "      <td>7.8</td>\n",
       "      <td>36</td>\n",
       "      <td>181</td>\n",
       "      <td>6</td>\n",
       "      <td>6</td>\n",
       "    </tr>\n",
       "    <tr>\n",
       "      <th>3</th>\n",
       "      <td>2023</td>\n",
       "      <td>Acura</td>\n",
       "      <td>MDX SH-AWD</td>\n",
       "      <td>SUV: Small</td>\n",
       "      <td>3.5</td>\n",
       "      <td>6</td>\n",
       "      <td>AS10</td>\n",
       "      <td>Z</td>\n",
       "      <td>12.6</td>\n",
       "      <td>9.4</td>\n",
       "      <td>11.2</td>\n",
       "      <td>25</td>\n",
       "      <td>263</td>\n",
       "      <td>4</td>\n",
       "      <td>5</td>\n",
       "    </tr>\n",
       "    <tr>\n",
       "      <th>4</th>\n",
       "      <td>2023</td>\n",
       "      <td>Acura</td>\n",
       "      <td>MDX SH-AWD Type S</td>\n",
       "      <td>SUV: Standard</td>\n",
       "      <td>3.0</td>\n",
       "      <td>6</td>\n",
       "      <td>AS10</td>\n",
       "      <td>Z</td>\n",
       "      <td>13.8</td>\n",
       "      <td>11.2</td>\n",
       "      <td>12.4</td>\n",
       "      <td>23</td>\n",
       "      <td>291</td>\n",
       "      <td>4</td>\n",
       "      <td>5</td>\n",
       "    </tr>\n",
       "  </tbody>\n",
       "</table>\n",
       "</div>"
      ],
      "text/plain": [
       "   model_year   make             models  vehicle_class  engine_size  \\\n",
       "0        2023  Acura            Integra      Full-size          1.5   \n",
       "1        2023  Acura     Integra A-SPEC      Full-size          1.5   \n",
       "2        2023  Acura     Integra A-SPEC      Full-size          1.5   \n",
       "3        2023  Acura         MDX SH-AWD     SUV: Small          3.5   \n",
       "4        2023  Acura  MDX SH-AWD Type S  SUV: Standard          3.0   \n",
       "\n",
       "   cylinders trasmission fuel_type  fuel_consumption_city  \\\n",
       "0          4         AV7         Z                    7.9   \n",
       "1          4         AV7         Z                    8.1   \n",
       "2          4          M6         Z                    8.9   \n",
       "3          6        AS10         Z                   12.6   \n",
       "4          6        AS10         Z                   13.8   \n",
       "\n",
       "   fuel_consumption_hwy  fuel_consumption_comb  fuel_consumption_comb_mpg  \\\n",
       "0                   6.3                    7.2                         39   \n",
       "1                   6.5                    7.4                         38   \n",
       "2                   6.5                    7.8                         36   \n",
       "3                   9.4                   11.2                         25   \n",
       "4                  11.2                   12.4                         23   \n",
       "\n",
       "   co2_emissions  co2_rating  smog_rating  \n",
       "0            167           6            7  \n",
       "1            172           6            7  \n",
       "2            181           6            6  \n",
       "3            263           4            5  \n",
       "4            291           4            5  "
      ]
     },
     "execution_count": 5,
     "metadata": {},
     "output_type": "execute_result"
    }
   ],
   "source": [
    "# Rename columns.\n",
    "new_cols = {'Model Year': 'model_year', 'Make': 'make', 'Model': 'models', 'Vehicle Class': 'vehicle_class', 'Engine Size (L)':'engine_size',\n",
    "            'Cylinders': 'cylinders', 'Transmission': 'trasmission', 'Fuel Type': 'fuel_type', 'Fuel Consumption City (L/100 km)':'fuel_consumption_city', \n",
    "            'Hwy (L/100 km)': 'fuel_consumption_hwy', 'Comb (L/100 km)': 'fuel_consumption_comb', 'Comb (mpg)': 'fuel_consumption_comb_mpg',\n",
    "            'CO2 Emissions (g/km)': 'fuel_consumption_comb_mpg', 'CO2 Emissions (g/km)': 'co2_emissions', \n",
    "            'CO2 Rating': 'co2_rating', 'Smog Rating': 'smog_rating'}\n",
    "\n",
    "data.rename(columns=new_cols, inplace=True)\n",
    "data.head()"
   ]
  },
  {
   "cell_type": "code",
   "execution_count": 6,
   "id": "515cd046",
   "metadata": {},
   "outputs": [
    {
     "data": {
      "text/plain": [
       "0"
      ]
     },
     "execution_count": 6,
     "metadata": {},
     "output_type": "execute_result"
    }
   ],
   "source": [
    "# Check for duplicates.\n",
    "data.duplicated().sum()"
   ]
  },
  {
   "cell_type": "code",
   "execution_count": 7,
   "id": "7ebaf8cb",
   "metadata": {},
   "outputs": [
    {
     "data": {
      "text/plain": [
       "model_year                   0\n",
       "make                         0\n",
       "models                       0\n",
       "vehicle_class                0\n",
       "engine_size                  0\n",
       "cylinders                    0\n",
       "trasmission                  0\n",
       "fuel_type                    0\n",
       "fuel_consumption_city        0\n",
       "fuel_consumption_hwy         0\n",
       "fuel_consumption_comb        0\n",
       "fuel_consumption_comb_mpg    0\n",
       "co2_emissions                0\n",
       "co2_rating                   0\n",
       "smog_rating                  0\n",
       "dtype: int64"
      ]
     },
     "execution_count": 7,
     "metadata": {},
     "output_type": "execute_result"
    }
   ],
   "source": [
    "# Check null values.\n",
    "data.isnull().sum()"
   ]
  },
  {
   "cell_type": "markdown",
   "id": "5eee4163",
   "metadata": {},
   "source": [
    "What are the **features**?\n",
    "\n",
    "- engine_size (L): Engine size is the volume of fuel and air that can be pushed through a car’s cylinders.\n",
    "- cylinders: A cylinder is a crucial part of the engine where fuel is combusted and power is generated. It consists of a piston, an inlet, and exhaust valves at the top.\n",
    "- fuel_consumption_city (L/100 km): City fuel consumption ratings are shown in litres per 100 kilometres (L/100 km) .\n",
    "- fuel_consumption_hwy (L/100 km): Highway fuel consumption ratings are shown in litres per 100 kilometres (L/100 km).\n",
    "- fuel_consumption_comb (L/100 km): The combined rating (55% city, 45% hwy) is shown in L/100 km.\n",
    "\n",
    "What is the **response**?\n",
    "\n",
    "- co2_emissions (g/km): the tailpipe emissions of carbon dioxide (in grams per kilometer) for combined city and highway driving\n"
   ]
  },
  {
   "cell_type": "code",
   "execution_count": 8,
   "id": "d08b88dd",
   "metadata": {},
   "outputs": [
    {
     "data": {
      "text/html": [
       "<div>\n",
       "<style scoped>\n",
       "    .dataframe tbody tr th:only-of-type {\n",
       "        vertical-align: middle;\n",
       "    }\n",
       "\n",
       "    .dataframe tbody tr th {\n",
       "        vertical-align: top;\n",
       "    }\n",
       "\n",
       "    .dataframe thead th {\n",
       "        text-align: right;\n",
       "    }\n",
       "</style>\n",
       "<table border=\"1\" class=\"dataframe\">\n",
       "  <thead>\n",
       "    <tr style=\"text-align: right;\">\n",
       "      <th></th>\n",
       "      <th>engine_size</th>\n",
       "      <th>cylinders</th>\n",
       "      <th>fuel_consumption_city</th>\n",
       "      <th>fuel_consumption_hwy</th>\n",
       "      <th>fuel_consumption_comb</th>\n",
       "      <th>co2_emissions</th>\n",
       "    </tr>\n",
       "  </thead>\n",
       "  <tbody>\n",
       "    <tr>\n",
       "      <th>engine_size</th>\n",
       "      <td>1.000000</td>\n",
       "      <td>0.917732</td>\n",
       "      <td>0.829180</td>\n",
       "      <td>0.726221</td>\n",
       "      <td>0.808091</td>\n",
       "      <td>0.805142</td>\n",
       "    </tr>\n",
       "    <tr>\n",
       "      <th>cylinders</th>\n",
       "      <td>0.917732</td>\n",
       "      <td>1.000000</td>\n",
       "      <td>0.839277</td>\n",
       "      <td>0.722847</td>\n",
       "      <td>0.813473</td>\n",
       "      <td>0.820007</td>\n",
       "    </tr>\n",
       "    <tr>\n",
       "      <th>fuel_consumption_city</th>\n",
       "      <td>0.829180</td>\n",
       "      <td>0.839277</td>\n",
       "      <td>1.000000</td>\n",
       "      <td>0.916695</td>\n",
       "      <td>0.989545</td>\n",
       "      <td>0.957900</td>\n",
       "    </tr>\n",
       "    <tr>\n",
       "      <th>fuel_consumption_hwy</th>\n",
       "      <td>0.726221</td>\n",
       "      <td>0.722847</td>\n",
       "      <td>0.916695</td>\n",
       "      <td>1.000000</td>\n",
       "      <td>0.964510</td>\n",
       "      <td>0.926076</td>\n",
       "    </tr>\n",
       "    <tr>\n",
       "      <th>fuel_consumption_comb</th>\n",
       "      <td>0.808091</td>\n",
       "      <td>0.813473</td>\n",
       "      <td>0.989545</td>\n",
       "      <td>0.964510</td>\n",
       "      <td>1.000000</td>\n",
       "      <td>0.965122</td>\n",
       "    </tr>\n",
       "    <tr>\n",
       "      <th>co2_emissions</th>\n",
       "      <td>0.805142</td>\n",
       "      <td>0.820007</td>\n",
       "      <td>0.957900</td>\n",
       "      <td>0.926076</td>\n",
       "      <td>0.965122</td>\n",
       "      <td>1.000000</td>\n",
       "    </tr>\n",
       "  </tbody>\n",
       "</table>\n",
       "</div>"
      ],
      "text/plain": [
       "                       engine_size  cylinders  fuel_consumption_city  \\\n",
       "engine_size               1.000000   0.917732               0.829180   \n",
       "cylinders                 0.917732   1.000000               0.839277   \n",
       "fuel_consumption_city     0.829180   0.839277               1.000000   \n",
       "fuel_consumption_hwy      0.726221   0.722847               0.916695   \n",
       "fuel_consumption_comb     0.808091   0.813473               0.989545   \n",
       "co2_emissions             0.805142   0.820007               0.957900   \n",
       "\n",
       "                       fuel_consumption_hwy  fuel_consumption_comb  \\\n",
       "engine_size                        0.726221               0.808091   \n",
       "cylinders                          0.722847               0.813473   \n",
       "fuel_consumption_city              0.916695               0.989545   \n",
       "fuel_consumption_hwy               1.000000               0.964510   \n",
       "fuel_consumption_comb              0.964510               1.000000   \n",
       "co2_emissions                      0.926076               0.965122   \n",
       "\n",
       "                       co2_emissions  \n",
       "engine_size                 0.805142  \n",
       "cylinders                   0.820007  \n",
       "fuel_consumption_city       0.957900  \n",
       "fuel_consumption_hwy        0.926076  \n",
       "fuel_consumption_comb       0.965122  \n",
       "co2_emissions               1.000000  "
      ]
     },
     "execution_count": 8,
     "metadata": {},
     "output_type": "execute_result"
    }
   ],
   "source": [
    "# The features with correlation coefficient.\n",
    "data = data[['engine_size', 'cylinders', 'fuel_consumption_city', \n",
    "             'fuel_consumption_hwy', 'fuel_consumption_comb', 'co2_emissions']]\n",
    "data.corr()"
   ]
  },
  {
   "cell_type": "code",
   "execution_count": 9,
   "id": "24f0984b",
   "metadata": {
    "scrolled": false
   },
   "outputs": [
    {
     "data": {
      "image/png": "[encoded data removed]",
      "text/plain": [
       "<Figure size 1600x800 with 6 Axes>"
      ]
     },
     "metadata": {},
     "output_type": "display_data"
    }
   ],
   "source": [
    "fig, axs = plt.subplots(2, 3, sharey=True, figsize=(16, 8))\n",
    "axs[0][0].scatter(data['engine_size'], y=data['co2_emissions'])\n",
    "axs[0][1].scatter(data['cylinders'], y=data['co2_emissions'])\n",
    "axs[0][2].scatter(data['fuel_consumption_city'], y=data['co2_emissions'])\n",
    "axs[1][0].scatter(data['fuel_consumption_hwy'], y=data['co2_emissions'])\n",
    "axs[1][1].scatter(data['fuel_consumption_comb'], y=data['co2_emissions'])\n",
    "axs[1,2].set_axis_off()\n",
    "\n",
    "axs[0][0].set_ylabel(r'CO$_2$ emissions (g/km)')\n",
    "axs[1][0].set_ylabel(r'CO$_2$ emissions (g/km)')\n",
    "\n",
    "axs[0][0].set_xlabel('Engine Size (L)')\n",
    "axs[0][1].set_xlabel('Cylinders')\n",
    "axs[0][2].set_xlabel('Fuel Consumption City (L/100 km)')\n",
    "axs[1][0].set_xlabel('Fuel Consumption Highway (L/100 km)')\n",
    "axs[1][1].set_xlabel('Fuel Consumption Combined (L/100 km)')\n",
    "plt.show()"
   ]
  },
  {
   "cell_type": "markdown",
   "id": "3be4b2a4",
   "metadata": {},
   "source": [
    "In this code we are interested in using only one feature in the linear regression analysis. In the next project, a multiple linear regression will be implemented."
   ]
  },
  {
   "cell_type": "code",
   "execution_count": 10,
   "id": "a75bc55f",
   "metadata": {},
   "outputs": [],
   "source": [
    "# Splitting X and y into training and testing sets\n",
    "feature_cols = ['engine_size', 'cylinders', 'fuel_consumption_city', 'fuel_consumption_hwy', 'fuel_consumption_comb']\n",
    "X = data[feature_cols]\n",
    "y = data.co2_emissions\n",
    "\n",
    "X_train, X_test, y_train, y_test = train_test_split(X[['fuel_consumption_comb']], y, test_size = 0.3, random_state = 42)"
   ]
  },
  {
   "cell_type": "code",
   "execution_count": 11,
   "id": "1894b9a8",
   "metadata": {},
   "outputs": [
    {
     "data": {
      "text/html": [
       "<style>#sk-container-id-1 {color: black;}#sk-container-id-1 pre{padding: 0;}#sk-container-id-1 div.sk-toggleable {background-color: white;}#sk-container-id-1 label.sk-toggleable__label {cursor: pointer;display: block;width: 100%;margin-bottom: 0;padding: 0.3em;box-sizing: border-box;text-align: center;}#sk-container-id-1 label.sk-toggleable__label-arrow:before {content: \"▸\";float: left;margin-right: 0.25em;color: #696969;}#sk-container-id-1 label.sk-toggleable__label-arrow:hover:before {color: black;}#sk-container-id-1 div.sk-estimator:hover label.sk-toggleable__label-arrow:before {color: black;}#sk-container-id-1 div.sk-toggleable__content {max-height: 0;max-width: 0;overflow: hidden;text-align: left;background-color: #f0f8ff;}#sk-container-id-1 div.sk-toggleable__content pre {margin: 0.2em;color: black;border-radius: 0.25em;background-color: #f0f8ff;}#sk-container-id-1 input.sk-toggleable__control:checked~div.sk-toggleable__content {max-height: 200px;max-width: 100%;overflow: auto;}#sk-container-id-1 input.sk-toggleable__control:checked~label.sk-toggleable__label-arrow:before {content: \"▾\";}#sk-container-id-1 div.sk-estimator input.sk-toggleable__control:checked~label.sk-toggleable__label {background-color: #d4ebff;}#sk-container-id-1 div.sk-label input.sk-toggleable__control:checked~label.sk-toggleable__label {background-color: #d4ebff;}#sk-container-id-1 input.sk-hidden--visually {border: 0;clip: rect(1px 1px 1px 1px);clip: rect(1px, 1px, 1px, 1px);height: 1px;margin: -1px;overflow: hidden;padding: 0;position: absolute;width: 1px;}#sk-container-id-1 div.sk-estimator {font-family: monospace;background-color: #f0f8ff;border: 1px dotted black;border-radius: 0.25em;box-sizing: border-box;margin-bottom: 0.5em;}#sk-container-id-1 div.sk-estimator:hover {background-color: #d4ebff;}#sk-container-id-1 div.sk-parallel-item::after {content: \"\";width: 100%;border-bottom: 1px solid gray;flex-grow: 1;}#sk-container-id-1 div.sk-label:hover label.sk-toggleable__label {background-color: #d4ebff;}#sk-container-id-1 div.sk-serial::before {content: \"\";position: absolute;border-left: 1px solid gray;box-sizing: border-box;top: 0;bottom: 0;left: 50%;z-index: 0;}#sk-container-id-1 div.sk-serial {display: flex;flex-direction: column;align-items: center;background-color: white;padding-right: 0.2em;padding-left: 0.2em;position: relative;}#sk-container-id-1 div.sk-item {position: relative;z-index: 1;}#sk-container-id-1 div.sk-parallel {display: flex;align-items: stretch;justify-content: center;background-color: white;position: relative;}#sk-container-id-1 div.sk-item::before, #sk-container-id-1 div.sk-parallel-item::before {content: \"\";position: absolute;border-left: 1px solid gray;box-sizing: border-box;top: 0;bottom: 0;left: 50%;z-index: -1;}#sk-container-id-1 div.sk-parallel-item {display: flex;flex-direction: column;z-index: 1;position: relative;background-color: white;}#sk-container-id-1 div.sk-parallel-item:first-child::after {align-self: flex-end;width: 50%;}#sk-container-id-1 div.sk-parallel-item:last-child::after {align-self: flex-start;width: 50%;}#sk-container-id-1 div.sk-parallel-item:only-child::after {width: 0;}#sk-container-id-1 div.sk-dashed-wrapped {border: 1px dashed gray;margin: 0 0.4em 0.5em 0.4em;box-sizing: border-box;padding-bottom: 0.4em;background-color: white;}#sk-container-id-1 div.sk-label label {font-family: monospace;font-weight: bold;display: inline-block;line-height: 1.2em;}#sk-container-id-1 div.sk-label-container {text-align: center;}#sk-container-id-1 div.sk-container {/* jupyter's `normalize.less` sets `[hidden] { display: none; }` but bootstrap.min.css set `[hidden] { display: none !important; }` so we also need the `!important` here to be able to override the default hidden behavior on the sphinx rendered scikit-learn.org. See: https://github.com/scikit-learn/scikit-learn/issues/21755 */display: inline-block !important;position: relative;}#sk-container-id-1 div.sk-text-repr-fallback {display: none;}</style><div id=\"sk-container-id-1\" class=\"sk-top-container\"><div class=\"sk-text-repr-fallback\"><pre>LinearRegression()</pre><b>In a Jupyter environment, please rerun this cell to show the HTML representation or trust the notebook. <br />On GitHub, the HTML representation is unable to render, please try loading this page with nbviewer.org.</b></div><div class=\"sk-container\" hidden><div class=\"sk-item\"><div class=\"sk-estimator sk-toggleable\"><input class=\"sk-toggleable__control sk-hidden--visually\" id=\"sk-estimator-id-1\" type=\"checkbox\" checked><label for=\"sk-estimator-id-1\" class=\"sk-toggleable__label sk-toggleable__label-arrow\">LinearRegression</label><div class=\"sk-toggleable__content\"><pre>LinearRegression()</pre></div></div></div></div></div>"
      ],
      "text/plain": [
       "LinearRegression()"
      ]
     },
     "execution_count": 11,
     "metadata": {},
     "output_type": "execute_result"
    }
   ],
   "source": [
    "# Linear regression in scikit-learn\n",
    "lin_reg = LinearRegression()\n",
    "\n",
    "# Fit the model to the training data \n",
    "lin_reg.fit(X_train, y_train)"
   ]
  },
  {
   "cell_type": "code",
   "execution_count": 12,
   "id": "b20739ee",
   "metadata": {},
   "outputs": [
    {
     "name": "stdout",
     "output_type": "stream",
     "text": [
      "Intercept: 18.576\n",
      "Slope: 21.587\n"
     ]
    }
   ],
   "source": [
    "# print the intercept and coefficient\n",
    "alpha = lin_reg.intercept_\n",
    "beta = lin_reg.coef_\n",
    "print('Intercept: {:.3f}'.format(alpha))\n",
    "print('Slope: {:.3f}'.format(beta[0]))"
   ]
  },
  {
   "cell_type": "markdown",
   "id": "fd3b0c70",
   "metadata": {},
   "source": [
    "The intepretation of intercept and coefficient is as follows:\n",
    "\n",
    "- The intercept value means the CO$_2$ emissions is equal to $18.576$ g/km when Fuel consumption is zero.\n",
    "- A unit of Fuel consumption is associated with a $21.587$ unit increase CO$_2$ emissions.\n",
    "\n",
    "The linear regression equation for train data is\n",
    "\n",
    "\\begin{equation*}\n",
    "\\hat{y} = 18.576 + 21.587 x,\n",
    "\\end{equation*}"
   ]
  },
  {
   "cell_type": "code",
   "execution_count": 13,
   "id": "b2016597",
   "metadata": {},
   "outputs": [
    {
     "data": {
      "image/png": "[encoded data removed]",
      "text/plain": [
       "<Figure size 640x480 with 1 Axes>"
      ]
     },
     "metadata": {},
     "output_type": "display_data"
    }
   ],
   "source": [
    "# Plot linear regression line on test dataset\n",
    "plt.scatter(X_test, y_test)\n",
    "plt.plot(X_test, lin_reg.predict(X_test), 'r')\n",
    "plt.plot(X_test, 18.576 + 21.587*X_test, '--g')\n",
    "plt.xlabel('Fuel Consumption Combined (L/100 km)')\n",
    "plt.ylabel(r'CO$_2$ Emission (g/km)')\n",
    "plt.show()"
   ]
  },
  {
   "cell_type": "code",
   "execution_count": 14,
   "id": "a0bda3d6",
   "metadata": {},
   "outputs": [
    {
     "data": {
      "text/html": [
       "<div>\n",
       "<style scoped>\n",
       "    .dataframe tbody tr th:only-of-type {\n",
       "        vertical-align: middle;\n",
       "    }\n",
       "\n",
       "    .dataframe tbody tr th {\n",
       "        vertical-align: top;\n",
       "    }\n",
       "\n",
       "    .dataframe thead th {\n",
       "        text-align: right;\n",
       "    }\n",
       "</style>\n",
       "<table border=\"1\" class=\"dataframe\">\n",
       "  <thead>\n",
       "    <tr style=\"text-align: right;\">\n",
       "      <th></th>\n",
       "      <th>Actual value</th>\n",
       "      <th>Predicted value</th>\n",
       "    </tr>\n",
       "  </thead>\n",
       "  <tbody>\n",
       "    <tr>\n",
       "      <th>609</th>\n",
       "      <td>256</td>\n",
       "      <td>253.872751</td>\n",
       "    </tr>\n",
       "    <tr>\n",
       "      <th>174</th>\n",
       "      <td>252</td>\n",
       "      <td>249.555377</td>\n",
       "    </tr>\n",
       "    <tr>\n",
       "      <th>67</th>\n",
       "      <td>209</td>\n",
       "      <td>212.857700</td>\n",
       "    </tr>\n",
       "    <tr>\n",
       "      <th>168</th>\n",
       "      <td>253</td>\n",
       "      <td>249.555377</td>\n",
       "    </tr>\n",
       "    <tr>\n",
       "      <th>275</th>\n",
       "      <td>241</td>\n",
       "      <td>240.920629</td>\n",
       "    </tr>\n",
       "    <tr>\n",
       "      <th>...</th>\n",
       "      <td>...</td>\n",
       "      <td>...</td>\n",
       "    </tr>\n",
       "    <tr>\n",
       "      <th>572</th>\n",
       "      <td>349</td>\n",
       "      <td>342.378913</td>\n",
       "    </tr>\n",
       "    <tr>\n",
       "      <th>800</th>\n",
       "      <td>159</td>\n",
       "      <td>165.366589</td>\n",
       "    </tr>\n",
       "    <tr>\n",
       "      <th>625</th>\n",
       "      <td>225</td>\n",
       "      <td>225.809821</td>\n",
       "    </tr>\n",
       "    <tr>\n",
       "      <th>145</th>\n",
       "      <td>207</td>\n",
       "      <td>208.540326</td>\n",
       "    </tr>\n",
       "    <tr>\n",
       "      <th>664</th>\n",
       "      <td>191</td>\n",
       "      <td>195.588205</td>\n",
       "    </tr>\n",
       "  </tbody>\n",
       "</table>\n",
       "<p>247 rows × 2 columns</p>\n",
       "</div>"
      ],
      "text/plain": [
       "     Actual value  Predicted value\n",
       "609           256       253.872751\n",
       "174           252       249.555377\n",
       "67            209       212.857700\n",
       "168           253       249.555377\n",
       "275           241       240.920629\n",
       "..            ...              ...\n",
       "572           349       342.378913\n",
       "800           159       165.366589\n",
       "625           225       225.809821\n",
       "145           207       208.540326\n",
       "664           191       195.588205\n",
       "\n",
       "[247 rows x 2 columns]"
      ]
     },
     "execution_count": 14,
     "metadata": {},
     "output_type": "execute_result"
    }
   ],
   "source": [
    "# Dataframe with actual value and predicted value.\n",
    "pd.DataFrame({'Actual value': y_test, 'Predicted value': lin_reg.predict(X_test)})"
   ]
  },
  {
   "cell_type": "code",
   "execution_count": 15,
   "id": "deb7d8a7",
   "metadata": {},
   "outputs": [
    {
     "name": "stdout",
     "output_type": "stream",
     "text": [
      "R²: 93.14\n"
     ]
    }
   ],
   "source": [
    "#Model Evaluation\n",
    "\n",
    "R2 = lin_reg.score(X[['fuel_consumption_comb']],y)*100\n",
    "\n",
    "print('R²:', round(R2, 2))"
   ]
  },
  {
   "cell_type": "markdown",
   "id": "53d7d848",
   "metadata": {},
   "source": [
    "The value of $R^2 = 93.14$, which indicates that $93.14 \\%$ of the data fit the regression model."
   ]
  },
  {
   "cell_type": "code",
   "execution_count": 16,
   "id": "181dd3ca",
   "metadata": {},
   "outputs": [],
   "source": [
    "# Calcule of residuals and standard residuals\n",
    "\n",
    "prediction = lin_reg.predict(X_test)\n",
    "residual = (y_test - prediction)\n",
    "\n",
    "mean = residual.mean()\n",
    "std = residual.std()\n",
    "\n",
    "StdResidual = (residual - mean)/std\n",
    "\n",
    "# Save X_test, residuals and standard residuals.\n",
    "np.savetxt('../data/processed/residuals_model_2.txt', np.column_stack([X_test, residual, StdResidual]), fmt='%6.5f')"
   ]
  },
  {
   "cell_type": "code",
   "execution_count": 17,
   "id": "f45e4361",
   "metadata": {},
   "outputs": [
    {
     "name": "stdout",
     "output_type": "stream",
     "text": [
      "R squared: 93.51\n"
     ]
    }
   ],
   "source": [
    "# Create a list of feature names.\n",
    "feature_cols = ['engine_size', 'cylinders', 'fuel_consumption_city', 'fuel_consumption_hwy', 'fuel_consumption_comb']\n",
    "\n",
    "# Use the list to select a subset.\n",
    "X = data[feature_cols]\n",
    "\n",
    "# Welect a Series from the DataFrame.\n",
    "y = data.co2_emissions\n",
    "\n",
    "# Split into training and testing setsl.\n",
    "X_train, X_test, y_train, y_test = train_test_split(X, y, random_state=100)\n",
    "\n",
    "# Fit the model to the training data.\n",
    "lin_reg.fit(X_train, y_train)\n",
    "\n",
    "# Make predictions on the testing set.\n",
    "y_pred = lin_reg.predict(X_test)\n",
    "\n",
    "# Mean Absolute Error (MAE) is the mean of the absolute value of the errors.\n",
    "MAE = metrics.mean_absolute_error(y_test, y_pred)\n",
    "\n",
    "# Mean Squared Error (MSE) is the mean of the squared errors.\n",
    "MSE = metrics.mean_squared_error(y_test, y_pred)\n",
    "\n",
    "# Root Mean Squared Error (RMSE) is the square root of the mean of the squared errors.\n",
    "RMSE = np.sqrt(metrics.mean_squared_error(y_test, y_pred))\n",
    "\n",
    "# Coefficient of determination.\n",
    "R2 = lin_reg.score(X,y)*100\n",
    "\n",
    "\n",
    "print('R squared:', round(R2, 2))"
   ]
  },
  {
   "cell_type": "code",
   "execution_count": null,
   "id": "651aadd4",
   "metadata": {},
   "outputs": [],
   "source": []
  }
 ],
 "metadata": {
  "kernelspec": {
   "display_name": "Python 3 (ipykernel)",
   "language": "python",
   "name": "python3"
  },
  "language_info": {
   "codemirror_mode": {
    "name": "ipython",
    "version": 3
   },
   "file_extension": ".py",
   "mimetype": "text/x-python",
   "name": "python",
   "nbconvert_exporter": "python",
   "pygments_lexer": "ipython3",
   "version": "3.8.17"
  }
 },
 "nbformat": 4,
 "nbformat_minor": 5
}
