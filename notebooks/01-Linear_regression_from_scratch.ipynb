{
 "cells": [
  {
   "cell_type": "markdown",
   "id": "35372347",
   "metadata": {},
   "source": [
    "# Regressão linear simples do zero\n",
    "\n",
    "## Resumo\n",
    "\n",
    "Nesse código implementamos uma regressão linear simples do zero. Considerando dados aleatórios, calculamos o coeficiente de\n",
    "correlação de Pearson, em seguida implementamos a regressão linear utilizando do método dos mínimos quadrados. E por fim,\n",
    "fazemos a regressão linear e plotamos os resíduos.\n",
    "\n",
    "\n",
    "## Introdução \n",
    "\n",
    "Regressão linear é um dos modelos estatísticos mais utilizados na prática. Como exemplo mais simples, podemos citar dados distribuídos de forma pareada numa tabela da seguinte maneira: $(x_1, y_1), ..., (x_n, y_n)$ com $x_1, ..., x_n, y_1, ..., y_n \\in X, Y$ sendo variáveis contínuas num contexto em que sabemos que elas, a priori, são variáveis explicativa (preditora) e resposta (target), respectivamente. Esses dados podem representar os salários e o nível de escolaridade de seus funcionários ou salário dependente da experiência. Este é um problema de regressão onde os dados relativos a cada funcionário representam uma observação. A suposição é que a experiências e educação são características independentes, enquanto o salário depende delas. Essa relação é representada por meio de uma equação que associa as variáveis resposta $Y$ e a preditora $X$. No caso onde temos $n$ pares de dados, o modelo de regressão linear simples relaciona essas variáveis de maneira linear da seguinte maneira, \n",
    "\n",
    "\\begin{equation*}\n",
    "y_{i} = \\alpha + \\beta x_i + e_i,\n",
    "\\label{eq:1} \\tag{1}\n",
    "\\end{equation*}\n",
    "\n",
    "onde \n",
    "\n",
    "$y_i$ representa o valor da variável resposta, $Y$, na observação $i$, $i = 1,...n$ (aleatória);\n",
    "\n",
    "$x_i$ representa o valor da variável preditora, $X$, na observação $i$, $i = 1,...n$ (não aleatória);\n",
    "\n",
    "$e_i$, $i = 1,...n$ são variáveis aleatórias que correspondem ao erro (variável que permite\n",
    "explicar a variabilidade existente em $Y$ e que não é explicada por ܺ$X$);\n",
    "\n",
    "$\\alpha$ é uma constante que representa a interceptação da reta com o eixo vertical;\n",
    "\n",
    "$\\beta$ representa a inclinação (coeficiente angular) em relação à variável resposta.\n",
    " \n",
    "Note que para $X = 0$, isto é, quando a reta regressora corta o eixo $y$, temos o valor de $\\alpha$, que é denominado de coeficiente linear (intercept). Já o parâmetro $\\beta$ representa a inclinação da reta (slope).\n",
    "\n",
    "## Método dos mínimos quadrados\n",
    "\n",
    "Supondo que existe efetivamente uma relação linear entre $X$ e $Y$, então podemos perguntar como estimar os parâmetros $\\alpha$ e $\\beta$? Assumindo que os erros $e_i$ são não correlacionados, tenham média $0$ e variância $\\sigma^2$. Um possível método para obtenção dos estimadores consiste em determinar $\\hat{\\alpha}$ e $\\hat{\\beta}$ que minimizem a distância entre cada observação o valor esperado definido por $E(y) = \\alpha + \\beta x_i$. O método dos mínimos quadrados consiste em obter os coeficientes $\\alpha$ e $\\beta$, minimizando os resíduos do modelo de regressão linear, calculados como a diferença entre os valores observados, $y_i$, e os valores estimados, $\\hat{y}_i$, ou seja\n",
    "\n",
    "\\begin{equation*}\\label{eq:2} \\tag{2}\n",
    "\\hat{e}_{i} = y_i - \\hat{y}_i, \\quad \\quad i = 1, ...,n.\n",
    "\\end{equation*}\n",
    "\n",
    "Então a partir desse método, podemos obter os valores de $\\alpha$ e $\\beta$ para os quais a soma dos quadrados dos resíduos é minima. Assim, \n",
    "\n",
    "\\begin{equation}\\label{eq:3} \\tag{3}\n",
    "Q(\\alpha, \\beta) = \\sum_{i = 1}^{n} e_{i}^{2} = \\sum_{i = 1}^{n}(y_i - \\alpha - \\beta x_i)^2.\n",
    "\\end{equation}\n",
    "\n",
    "Os estimadores $\\hat{\\alpha}$ e $\\hat{\\beta}$ são obtidos minimizando a Eq. $\\eqref{eq:3}$ em relação a $\\alpha$ e $\\beta$, isto é, derivamos $Q(\\alpha, \\beta)$ em relação a esses parâmetros e igualamos a zero. Dessa forma, obtemos\n",
    "\n",
    "\\begin{equation}\\label{eq:4} \\tag{4}\n",
    "\\hat{\\beta} = \\frac{\\sum_{i = 1}^{n}(x_i - \\bar{x})(y_i - \\bar{y})}{\\sum_{i = 1}^{n}(x_i - \\bar{x})^2},\n",
    "\\end{equation}\n",
    "e\n",
    "\n",
    "\\begin{equation}\\label{eq:5} \\tag{5}\n",
    "\\hat{\\alpha} = \\bar{y} - \\hat{\\beta}\\bar{x},\n",
    "\\end{equation}\n",
    "\n",
    "onde $\\bar{x}$ e $\\bar{y}$ são as médias. Chegamos no resultado que queriamos: a partir dos dados tabelados $X$ e $Y$, podemos obter $\\alpha$, $\\beta$ e os resíduos. \n",
    "\n",
    "Algumas diretrizes são importantes para usarmos a regressão linear: verificar a correlação entre as variáveis lembrando que correlação não implica em causalidade, fique dentro do intervalo dos dados e certifique-se de não extrapolar e não faça previsões para um conjunto de dados baseado em regressão linear de outro dataset.\n",
    "\n",
    "Próximo passo é construir o código.\n",
    "\n",
    "## Regressão linear em ação"
   ]
  },
  {
   "cell_type": "code",
   "execution_count": 1,
   "id": "22e474ce",
   "metadata": {},
   "outputs": [],
   "source": [
    "# Importando bibliotecas importantes\n",
    "import numpy as np\n",
    "import matplotlib.pyplot as plt\n",
    "import pandas as pd\n",
    "\n",
    "%matplotlib inline "
   ]
  },
  {
   "cell_type": "code",
   "execution_count": 2,
   "id": "3e63888f",
   "metadata": {},
   "outputs": [
    {
     "data": {
      "text/plain": [
       "array([[1.        , 0.92421207],\n",
       "       [0.92421207, 1.        ]])"
      ]
     },
     "execution_count": 2,
     "metadata": {},
     "output_type": "execute_result"
    }
   ],
   "source": [
    "# Resultados consistentes \n",
    "np.random.seed(1) \n",
    "\n",
    "# Dados gerados aleatoriamente\n",
    "x = np.linspace(-15, 15, 50)\n",
    "y = x * 0.5 + 2 + np.random.normal(0, 2, size = 50)\n",
    "\n",
    "# Verificando se as variáveis são correlacionadas\n",
    "Rxy = np.corrcoef(x,y)\n",
    "Rxy"
   ]
  },
  {
   "cell_type": "markdown",
   "id": "68efb64a",
   "metadata": {},
   "source": [
    "Podemos ver que os dados gerados possuem uma correlação forte positiva $(0.8 \\le R_{xy} < 1)$. \n",
    "\n",
    "A seguir, iremos implementar as Eqs. $(1)$, $(2)$, $(4)$ e $(5)$."
   ]
  },
  {
   "cell_type": "code",
   "execution_count": 3,
   "id": "64ec57c1",
   "metadata": {},
   "outputs": [],
   "source": [
    "class linear_regression(object):\n",
    "    '''\n",
    "    Info:\n",
    "        Classe para calcular os parâmetros alfa, beta, coeficiente de determinação e os resíduos normalizados. \n",
    "    ----------\n",
    "    Input:\n",
    "        Depedendo da função que se quer utilizar:\n",
    "        x: Variável preditora [list]\n",
    "        y: Variável resposta [list]\n",
    "        alpha: Coeficiente linear (intercept) [float]\n",
    "        beta: Inclinação da reta (slope) [float]\n",
    "    ----------\n",
    "    Output:\n",
    "        y_pred: Variável resposta prevista [list]\n",
    "        alpha: Coeficiente linear (intercept) [float]\n",
    "        beta: Inclinação da reta (slope) [float]\n",
    "        r_squared: Coeficiente de determinação [float]\n",
    "        residuals_normal: Resíduos normalizados [list]\n",
    "    '''\n",
    "\n",
    "    def __init__(self):\n",
    "        pass\n",
    "    \n",
    "    # Estimadores de mínimos quadrados\n",
    "    def least_squares_fit(self, x, y):\n",
    "        \n",
    "        x_bar, y_bar = np.mean(x), np.mean(y)\n",
    "        beta = sum((x_i - x_bar)*(y_i - y_bar) for x_i, y_i in zip(x, y))/sum((x_i - x_bar)**2 for x_i in x)\n",
    "        alpha = y_bar - beta*x_bar\n",
    "        \n",
    "        return alpha, beta\n",
    "\n",
    "    # Modelo de regressão linear\n",
    "    def predict(self, alpha, beta, x):\n",
    "        y_pred = alpha + beta*x \n",
    "        return y_pred\n",
    "\n",
    "    # erro de prever alpha + beta*x_i quando o valor real é y_i  (y - y_predict) (resíduos)\n",
    "    def error(self, alpha, beta, x, y):\n",
    "        return y - self.predict(alpha, beta, x)\n",
    "    \n",
    "    # soma dos erros quadráticos\n",
    "    def sum_of_sqerrors(self, alpha, beta, x, y):\n",
    "        return sum(self.error(alpha, beta, x_i, y_i)**2 for x_i, y_i in zip(x, y))\n",
    "\n",
    "    # Variação quadrática total da média da variável resposta\n",
    "    def total_sum_of_squares(self, y):\n",
    "        y_bar = np.mean(y)\n",
    "        return sum((y_i - y_bar)**2 for y_i in y)\n",
    "\n",
    "    # Cálculo do coeficiente de determinação\n",
    "    def r_squared(self, alpha, beta, x, y):\n",
    "        return 1.0 - (self.sum_of_sqerrors(alpha, beta, x, y)/self.total_sum_of_squares(y))\n",
    "    \n",
    "    # Resíduos normalizados\n",
    "    def residuals_normal(self, alpha, beta, x, y):\n",
    "        \n",
    "        x_bar = np.mean(x)\n",
    "        n = len(x)\n",
    "        S = np.sqrt((1.0/(n - 2))*self.sum_of_sqerrors(alpha, beta, x, y))\n",
    "        h_ii = 1.0/n + (x - x_bar)**2/sum((x_i - x_bar)**2 for x_i in x)\n",
    "        \n",
    "        return self.error(alpha, beta, x, y)/(S*np.sqrt(1.0 - h_ii))"
   ]
  },
  {
   "cell_type": "code",
   "execution_count": 4,
   "id": "1e9e2c21",
   "metadata": {
    "scrolled": false
   },
   "outputs": [
    {
     "data": {
      "image/png": "[encoded data removed]",
      "text/plain": [
       "<Figure size 640x480 with 1 Axes>"
      ]
     },
     "metadata": {},
     "output_type": "display_data"
    }
   ],
   "source": [
    "# Carregando a classe linear_regression\n",
    "reg = linear_regression() \n",
    "\n",
    "# Calculando alpha e beta\n",
    "alpha, beta = reg.least_squares_fit(x, y)\n",
    "\n",
    "# Plotando o gráfico de dispersão com a linha de tedência da regressão linear\n",
    "plt.scatter(x, y)\n",
    "plt.plot(x, reg.predict(alpha, beta, x), color = 'red')\n",
    "plt.xlabel('x')\n",
    "plt.ylabel('y')\n",
    "plt.savefig('figures/fig1', dpi=300)\n",
    "plt.show()"
   ]
  },
  {
   "cell_type": "code",
   "execution_count": 5,
   "id": "70d652e3",
   "metadata": {
    "scrolled": true
   },
   "outputs": [
    {
     "name": "stdout",
     "output_type": "stream",
     "text": [
      "Os valores de alpha e beta são 1.949 e 0.527. \n",
      "O coeficiente de determinação é R²= 0.854.\n"
     ]
    }
   ],
   "source": [
    "print('''Os valores de alpha e beta são {:.3f} e {:.3f}. \n",
    "O coeficiente de determinação é R²= {:.3f}.'''.format(alpha, beta, reg.r_squared(alpha, beta, x, y)))"
   ]
  },
  {
   "cell_type": "markdown",
   "id": "29ca3af1",
   "metadata": {},
   "source": [
    "Ou seja, 85% dos dados se ajustam ao modelo de regressão.\n",
    "\n",
    "Uma das ferramentas mais úteis para verificar a qualidade do ajuste do modelo de regressão linear é o gráfico de resíduos. Nesse gráfico abaixo temos nos eixos das ordenadas são dispostos os resíduos $\\hat{e}$ e os valores da variável preditora, no eixo das abscissas. Para facilitar a visualização em relação a dispersão dos resíduos e para efeito de comparação entre ajustes do modelos nos quais as variáveis respostas têm unidades de medidas diferentes, convém padronizá-los, ou seja, divido-los pelo respectivo desvio padrão para que tenham variância igual a 1."
   ]
  },
  {
   "cell_type": "code",
   "execution_count": 6,
   "id": "3dce3977",
   "metadata": {
    "scrolled": false
   },
   "outputs": [
    {
     "data": {
      "image/png": "[encoded data removed]",
      "text/plain": [
       "<Figure size 640x480 with 1 Axes>"
      ]
     },
     "metadata": {},
     "output_type": "display_data"
    }
   ],
   "source": [
    "# Salvando x, residuos e resíduos padronizados.\n",
    "np.savetxt('../data/processed/residuals_model_1.txt', np.column_stack([x, reg.error(alpha, beta, x, y), \n",
    "                                                              reg.residuals_normal(alpha, beta, x, y)]), fmt='%6.5f')\n",
    "\n",
    "# Plotando os resíduos normalizados\n",
    "plt.scatter(y, reg.residuals_normal(alpha, beta, x, y))\n",
    "plt.axhline(y=0)\n",
    "plt.xlabel('y')\n",
    "plt.ylabel('Resíduos normalizados')\n",
    "plt.show()"
   ]
  },
  {
   "cell_type": "markdown",
   "id": "63af3774",
   "metadata": {},
   "source": [
    "Após obter os valores de $\\alpha = 1.949$ e $\\beta = 0.527$, podemos utilizar a função de predição $y_{pred}= 1.949 + 0.527 x$ para obter alguns valores previstos."
   ]
  },
  {
   "cell_type": "code",
   "execution_count": 7,
   "id": "b3c2ec92",
   "metadata": {},
   "outputs": [
    {
     "data": {
      "text/plain": [
       "array([-5.95775716, -5.63503359, -5.31231002, -4.98958645, -4.66686288,\n",
       "       -4.34413931, -4.02141574, -3.69869217, -3.3759686 , -3.05324503,\n",
       "       -2.73052146, -2.40779789, -2.08507432, -1.76235075, -1.43962718,\n",
       "       -1.11690361, -0.79418004, -0.47145647, -0.1487329 ,  0.17399067,\n",
       "        0.49671424,  0.81943781,  1.14216138,  1.46488495,  1.78760852,\n",
       "        2.11033209,  2.43305566,  2.75577923,  3.0785028 ,  3.40122637,\n",
       "        3.72394994,  4.04667351,  4.36939708,  4.69212065,  5.01484422,\n",
       "        5.33756779,  5.66029136,  5.98301493,  6.3057385 ,  6.62846207,\n",
       "        6.95118564,  7.27390921,  7.59663278,  7.91935635,  8.24207992,\n",
       "        8.56480349,  8.88752706,  9.21025063,  9.5329742 ,  9.85569777])"
      ]
     },
     "execution_count": 7,
     "metadata": {},
     "output_type": "execute_result"
    }
   ],
   "source": [
    "# Usando os valores obtidos de alpha e beta para calcular os valores previstos da variável resposta.\n",
    "y_pred = reg.predict(alpha, beta, x)\n",
    "y_pred"
   ]
  },
  {
   "cell_type": "code",
   "execution_count": 8,
   "id": "30bb2985",
   "metadata": {},
   "outputs": [
    {
     "data": {
      "text/html": [
       "<div>\n",
       "<style scoped>\n",
       "    .dataframe tbody tr th:only-of-type {\n",
       "        vertical-align: middle;\n",
       "    }\n",
       "\n",
       "    .dataframe tbody tr th {\n",
       "        vertical-align: top;\n",
       "    }\n",
       "\n",
       "    .dataframe thead th {\n",
       "        text-align: right;\n",
       "    }\n",
       "</style>\n",
       "<table border=\"1\" class=\"dataframe\">\n",
       "  <thead>\n",
       "    <tr style=\"text-align: right;\">\n",
       "      <th></th>\n",
       "      <th>valor_atual</th>\n",
       "      <th>valor_previsto</th>\n",
       "    </tr>\n",
       "  </thead>\n",
       "  <tbody>\n",
       "    <tr>\n",
       "      <th>0</th>\n",
       "      <td>-2.251309</td>\n",
       "      <td>-5.957757</td>\n",
       "    </tr>\n",
       "    <tr>\n",
       "      <th>1</th>\n",
       "      <td>-6.417390</td>\n",
       "      <td>-5.635034</td>\n",
       "    </tr>\n",
       "    <tr>\n",
       "      <th>2</th>\n",
       "      <td>-5.944099</td>\n",
       "      <td>-5.312310</td>\n",
       "    </tr>\n",
       "    <tr>\n",
       "      <th>3</th>\n",
       "      <td>-6.727570</td>\n",
       "      <td>-4.989586</td>\n",
       "    </tr>\n",
       "    <tr>\n",
       "      <th>4</th>\n",
       "      <td>-2.544695</td>\n",
       "      <td>-4.666863</td>\n",
       "    </tr>\n",
       "  </tbody>\n",
       "</table>\n",
       "</div>"
      ],
      "text/plain": [
       "   valor_atual  valor_previsto\n",
       "0    -2.251309       -5.957757\n",
       "1    -6.417390       -5.635034\n",
       "2    -5.944099       -5.312310\n",
       "3    -6.727570       -4.989586\n",
       "4    -2.544695       -4.666863"
      ]
     },
     "execution_count": 8,
     "metadata": {},
     "output_type": "execute_result"
    }
   ],
   "source": [
    "# Dataframe com os valores atuais e os previstos.\n",
    "new_df = pd.DataFrame({\"valor_atual\": y, \"valor_previsto\": y_pred})\n",
    "new_df.head()"
   ]
  },
  {
   "cell_type": "markdown",
   "id": "e66cedd1",
   "metadata": {},
   "source": [
    "### Referências Bibliográficas\n",
    "\n",
    "Estatística e Ciências de Dados - Morettin e Singer 2022\n",
    "\n",
    "Data Science from scratch - Grus 2019"
   ]
  }
 ],
 "metadata": {
  "kernelspec": {
   "display_name": "Python 3 (ipykernel)",
   "language": "python",
   "name": "python3"
  },
  "language_info": {
   "codemirror_mode": {
    "name": "ipython",
    "version": 3
   },
   "file_extension": ".py",
   "mimetype": "text/x-python",
   "name": "python",
   "nbconvert_exporter": "python",
   "pygments_lexer": "ipython3",
   "version": "3.8.17"
  }
 },
 "nbformat": 4,
 "nbformat_minor": 5
}
