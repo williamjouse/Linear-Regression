{
 "cells": [
  {
   "cell_type": "markdown",
   "id": "35372347",
   "metadata": {},
   "source": [
    "# Regressão linear simples do zero\n",
    "\n",
    "## Resumo\n",
    "\n",
    "Nesse código implementamos uma regressão linear simples do zero. Considerando dados aleatórios, calculamos o coeficiente de\n",
    "correlação de Pearson, em seguida implementamos a regressão linear utilizando do método dos mínimos quadrados. E por fim,\n",
    "fazemos a regressão linear e plotamos os resíduos.\n",
    "\n",
    "\n",
    "## Introdução \n",
    "\n",
    "Regressão linear é um dos modelos estatísticos mais utilizados na prática. Como exemplo mais simples, podemos citar dados distribuídos de forma pareada numa tabela da seguinte maneira: $(x_1, y_1), ..., (x_n, y_n)$ com $x_1, ..., x_n, y_1, ..., y_n \\in X, Y$ sendo variáveis contínuas num contexto em que sabemos que elas, a priori, são variáveis explicativa (preditora) e resposta (target), respectivamente. Esses dados podem representar os salários e o nível de escolaridade de seus funcionários ou salário dependente da experiência. Este é um problema de regressão onde os dados relativos a cada funcionário representam uma observação. A suposição é que a experiências e educação são características independentes, enquanto o salário depende delas. Essa relação é representada por meio de uma equação que associa as variáveis resposta $Y$ e a preditora $X$. No caso onde temos $n$ pares de dados, o modelo de regressão linear simples relaciona essas variáveis de maneira linear da seguinte maneiras, \n",
    "\n",
    "\\begin{equation*}\n",
    "y_{i} = \\alpha + \\beta x_i + e_i,\n",
    "\\label{eq:1} \\tag{1}\n",
    "\\end{equation*}\n",
    "\n",
    "onde \n",
    "\n",
    "$y_i$ representa o valor da variável resposta, $Y$, na observação $i$, $i = 1,...n$ (aleatória);\n",
    "\n",
    "$x_i$ representa o valor da variável preditora, $X$, na observação $i$, $i = 1,...n$ (não aleatória);\n",
    "\n",
    "$e_i$, $i = 1,...n$ são variáveis aleatórias que correspondem ao erro (variável que permite\n",
    "explicar a variabilidade existente em $Y$ e que não é explicada por ܺ$X$);\n",
    "\n",
    "$\\alpha$ e $\\beta$ correspondem aos parâmetros do modelo.\n",
    " \n",
    "Note que para $X = 0$, isto é, quando a reta regressora corta o eixo $y$, temos o valor de $\\alpha$, que é denominado de coeficiente linear (intercept). Já o parâmetro $\\beta$ representa a inclinação da reta (slope).\n",
    "\n",
    "## Método dos mínimos quadrados\n",
    "\n",
    "Supondo que existe efetivamente uma relação linear entre $X$ e $Y$, então podemos perguntar como estimar os parâmetros $\\alpha$ e $\\beta$? Assumindo que os erros $e_i$ são não correlacionados, tenham média $0$ e variância $\\sigma^2$. Um possível método para obtenção dos estimadores consiste em determinar $\\hat{\\alpha}$ e $\\hat{\\beta}$ que minimizem a distância entre cada observação o valor esperado definido por $E(y) = \\alpha + \\beta x_i$. O método dos mínimos quadrados consiste em obter os coeficientes $\\alpha$ e $\\beta$, minimizando os resíduos do modelo de regressão linear, calculados como a diferença entre os valores observados, $y_i$, e os valores estimados, $\\hat{y}_i$, ou seja\n",
    "\n",
    "\\begin{equation*}\\label{eq:2} \\tag{2}\n",
    "\\hat{e}_{i} = y_i - \\hat{y}_i, \\quad \\quad i = 1, ...,n.\n",
    "\\end{equation*}\n",
    "\n",
    "Então a partir desse método, podemos obter os valores de $\\alpha$ e $\\beta$ para os quais a soma dos quadrados dos resíduos é minima. Assim, \n",
    "\n",
    "\\begin{equation}\\label{eq:3} \\tag{3}\n",
    "Q(\\alpha, \\beta) = \\sum_{i = 1}^{n} e_{i}^{2} = \\sum_{i = 1}^{n}(y_i - \\alpha - \\beta x_i)^2.\n",
    "\\end{equation}\n",
    "\n",
    "Os estimadores $\\hat{\\alpha}$ e $\\hat{\\beta}$ são obtidos minimizando a Eq. $\\eqref{eq:3}$ em relação a $\\alpha$ e $\\beta$, isto é, derivamos $Q(\\alpha, \\beta)$ em relação a esses parâmetros e igualamos a zero. Dessa forma, obtemos\n",
    "\n",
    "\\begin{equation}\\label{eq:4} \\tag{4}\n",
    "\\hat{\\beta} = \\frac{\\sum_{i = 1}^{n}(x_i - \\bar{x})(y_i - \\bar{y})}{\\sum_{i = 1}^{n}(x_i - \\bar{x})^2},\n",
    "\\end{equation}\n",
    "e\n",
    "\n",
    "\\begin{equation}\\label{eq:5} \\tag{5}\n",
    "\\hat{\\alpha} = \\bar{y} - \\hat{\\beta}\\bar{x},\n",
    "\\end{equation}\n",
    "\n",
    "onde $\\bar{x}$ e $\\bar{y}$ são as médias. Chegamos no resultado que queriamos: a partir dos dados tabelados $X$ e $Y$, podemos obter $\\alpha$, $\\beta$ e os resíduos. \n",
    "\n",
    "Algumas diretrizes são importantes para usarmos a regressão linear: verificar a correlação entre as variáveis lembrando que correlação não implica em causalidade, fique dentro do intervalo dos dados e certifique-se de não extrapolar e não faça previsões para um conjunto de dados baseado em regressão linear de outro dataset.\n",
    "\n",
    "Próximo passo é construir o código.\n",
    "\n",
    "## Regressão linear em ação"
   ]
  },
  {
   "cell_type": "code",
   "execution_count": 1,
   "id": "22e474ce",
   "metadata": {},
   "outputs": [],
   "source": [
    "# Importando bibliotecas importantes\n",
    "import numpy as np\n",
    "import matplotlib.pyplot as plt\n",
    "import pandas as pd\n",
    "\n",
    "%matplotlib inline "
   ]
  },
  {
   "cell_type": "code",
   "execution_count": 2,
   "id": "3e63888f",
   "metadata": {},
   "outputs": [
    {
     "data": {
      "text/plain": [
       "array([[1.        , 0.89688923],\n",
       "       [0.89688923, 1.        ]])"
      ]
     },
     "execution_count": 2,
     "metadata": {},
     "output_type": "execute_result"
    }
   ],
   "source": [
    "# Resultados consistentes \n",
    "np.random.seed(1) \n",
    "\n",
    "# Dados gerados aleatoriamente\n",
    "x = np.linspace(-15, 15, 20)\n",
    "y = x * 0.5 + 2 + np.random.normal(0, 2, size = 20)\n",
    "\n",
    "# Verificando se as variáveis são correlacionadas\n",
    "Rxy = np.corrcoef(x,y)\n",
    "Rxy"
   ]
  },
  {
   "cell_type": "markdown",
   "id": "68efb64a",
   "metadata": {},
   "source": [
    "Podemos ver que os dados gerados possuem uma correlação forte positiva $(0.8 \\le R_{xy} < 1)$. \n",
    "\n",
    "A seguir, iremos implementar as Eqs. $(1)$, $(2)$, $(4)$ e $(5)$."
   ]
  },
  {
   "cell_type": "code",
   "execution_count": 3,
   "id": "64ec57c1",
   "metadata": {},
   "outputs": [],
   "source": [
    "class linear_regression(object):\n",
    "    '''\n",
    "    Info:\n",
    "        Classe para calcular os parâmetros alfa, beta, coeficiente de determinação e os resíduos normalizados. \n",
    "    ----------\n",
    "    Input:\n",
    "        Depedendo da função que se quer utilizar:\n",
    "        x: Variável preditora [list]\n",
    "        y: Variável resposta [list]\n",
    "        alpha: Coeficiente linear (intercept) [float]\n",
    "        beta: Inclinação da reta (slope) [float]\n",
    "    ----------\n",
    "    Output:\n",
    "        y_pred: Variável resposta prevista [list]\n",
    "        alpha: Coeficiente linear (intercept) [float]\n",
    "        beta: Inclinação da reta (slope) [float]\n",
    "        r_squared: Coeficiente de determinação [float]\n",
    "        residuals_normal: Resíduos normalizados [list]\n",
    "    '''\n",
    "\n",
    "    def __init__(self):\n",
    "        pass\n",
    "    \n",
    "    # Estimadores de mínimos quadrados\n",
    "    def least_squares_fit(self, x, y):\n",
    "        \n",
    "        x_bar, y_bar = np.mean(x), np.mean(y)\n",
    "        beta = sum((x_i - x_bar)*(y_i - y_bar) for x_i, y_i in zip(x, y))/sum((x_i - x_bar)**2 for x_i in x)\n",
    "        alpha = y_bar - beta*x_bar\n",
    "        \n",
    "        return alpha, beta\n",
    "\n",
    "    # Modelo de regressão linear\n",
    "    def predict(self, alpha, beta, x):\n",
    "        y_pred = alpha + beta*x \n",
    "        return y_pred\n",
    "\n",
    "    # erro de prever alpha + beta*x_i quando o valor real é y_i  (y - y_predict) (resíduos)\n",
    "    def error(self, alpha, beta, x, y):\n",
    "        return y - self.predict(alpha, beta, x)\n",
    "    \n",
    "    # soma dos erros quadráticos\n",
    "    def sum_of_sqerrors(self, alpha, beta, x, y):\n",
    "        return sum(self.error(alpha, beta, x_i, y_i)**2 for x_i, y_i in zip(x, y))\n",
    "\n",
    "    # Variação quadrática total da média da variável resposta\n",
    "    def total_sum_of_squares(self, y):\n",
    "        y_bar = np.mean(y)\n",
    "        return sum((y_i - y_bar)**2 for y_i in y)\n",
    "\n",
    "    # Cálculo do coeficiente de determinação\n",
    "    def r_squared(self, alpha, beta, x, y):\n",
    "        return 1.0 - (self.sum_of_sqerrors(alpha, beta, x, y)/self.total_sum_of_squares(y))\n",
    "    \n",
    "    # Resíduos normalizados\n",
    "    def residuals_normal(self, alpha, beta, x, y):\n",
    "        \n",
    "        x_bar = np.mean(x)\n",
    "        n = len(x)\n",
    "        S = np.sqrt((1.0/(n - 2.0))*self.sum_of_sqerrors(alpha, beta, x, y))\n",
    "        h_ii = 1.0/n + (x - x_bar)**2/sum((x_i - x_bar)**2 for x_i in x)\n",
    "        \n",
    "        return self.error(alpha, beta, x, y)/(S*np.sqrt(1.0 - h_ii))"
   ]
  },
  {
   "cell_type": "code",
   "execution_count": 4,
   "id": "1e9e2c21",
   "metadata": {
    "scrolled": false
   },
   "outputs": [
    {
     "data": {
      "image/png": "[encoded data removed]",
      "text/plain": [
       "<Figure size 640x480 with 1 Axes>"
      ]
     },
     "metadata": {},
     "output_type": "display_data"
    }
   ],
   "source": [
    "# Carregando a classe linear_regression\n",
    "reg = linear_regression() \n",
    "\n",
    "# Calculando alpha e beta\n",
    "alpha, beta = reg.least_squares_fit(x, y)\n",
    "\n",
    "# Plotando o gráfico de dispersão com a linha de tedência da regressão linear\n",
    "plt.scatter(x, y)\n",
    "plt.plot(x, reg.predict(alpha, beta, x), color = 'red')\n",
    "plt.xlabel('x')\n",
    "plt.ylabel('y')\n",
    "plt.show()"
   ]
  },
  {
   "cell_type": "code",
   "execution_count": 5,
   "id": "70d652e3",
   "metadata": {
    "scrolled": true
   },
   "outputs": [
    {
     "name": "stdout",
     "output_type": "stream",
     "text": [
      "Os valores de alpha e beta são 1.733 e 0.489. \n",
      "O coeficiente de determinição é R^2= 0.804.\n"
     ]
    }
   ],
   "source": [
    "print('''Os valores de alpha e beta são {:.3f} e {:.3f}. \n",
    "O coeficiente de determinição é R^2= {:.3f}.'''.format(alpha, beta, reg.r_squared(alpha, beta, x, y)))"
   ]
  },
  {
   "cell_type": "markdown",
   "id": "29ca3af1",
   "metadata": {},
   "source": [
    "Uma das ferramentas mais úteis para verificar a qualidade do ajuste do modelo de regressão linear é o gráfico de resíduos. Nesse gráfico abaixo temos nos eixos das ordenadas são dispostos os resíduos $\\hat{e}$ e os valores da variável preditora, no eixo das abscissas. Para facilitar a visualização em relação a dispersão dos resíduos e para efeito de comparação entre ajustes do modelos nos quais as variáveis respostas têm unidades de medidas diferentes, convém padronizá-los, ou seja, divido-los pelo respectivo desvio padrão para que tenham variância igual a 1."
   ]
  },
  {
   "cell_type": "code",
   "execution_count": 6,
   "id": "3dce3977",
   "metadata": {
    "scrolled": false
   },
   "outputs": [
    {
     "data": {
      "image/png": "[encoded data removed]",
      "text/plain": [
       "<Figure size 640x480 with 1 Axes>"
      ]
     },
     "metadata": {},
     "output_type": "display_data"
    }
   ],
   "source": [
    "# Plotando os resíduos normalizados\n",
    "reg.residuals_normal(alpha, beta, x, y)\n",
    "plt.scatter(x, reg.residuals_normal(alpha, beta, x, y))\n",
    "plt.axhline(y=0)\n",
    "plt.xlabel('x')\n",
    "plt.ylabel('Resíduos normalizados')\n",
    "plt.show()"
   ]
  },
  {
   "cell_type": "markdown",
   "id": "63af3774",
   "metadata": {},
   "source": [
    "Após obter os valores de $\\alpha$ e $\\beta$, podemos utilizar a função de predição $y_{pred}= \\alpha + \\beta x$ para obter alguns valores previstos."
   ]
  },
  {
   "cell_type": "code",
   "execution_count": 7,
   "id": "b3c2ec92",
   "metadata": {},
   "outputs": [
    {
     "data": {
      "text/plain": [
       "array([-5.60895006, -4.83608472, -4.06321937, -3.29035402, -2.51748868,\n",
       "       -1.74462333, -0.97175798, -0.19889264,  0.57397271,  1.34683805,\n",
       "        2.1197034 ,  2.89256875,  3.66543409,  4.43829944,  5.21116478,\n",
       "        5.98403013,  6.75689548,  7.52976082,  8.30262617,  9.07549152])"
      ]
     },
     "execution_count": 7,
     "metadata": {},
     "output_type": "execute_result"
    }
   ],
   "source": [
    "# Usando os valores obtidos de alpha e beta para calcular os valores previstos da variável resposta.\n",
    "y_pred = reg.predict(alpha, beta, x)\n",
    "y_pred"
   ]
  },
  {
   "cell_type": "code",
   "execution_count": 8,
   "id": "30bb2985",
   "metadata": {},
   "outputs": [
    {
     "data": {
      "text/html": [
       "<div>\n",
       "<style scoped>\n",
       "    .dataframe tbody tr th:only-of-type {\n",
       "        vertical-align: middle;\n",
       "    }\n",
       "\n",
       "    .dataframe tbody tr th {\n",
       "        vertical-align: top;\n",
       "    }\n",
       "\n",
       "    .dataframe thead th {\n",
       "        text-align: right;\n",
       "    }\n",
       "</style>\n",
       "<table border=\"1\" class=\"dataframe\">\n",
       "  <thead>\n",
       "    <tr style=\"text-align: right;\">\n",
       "      <th></th>\n",
       "      <th>valor_atual</th>\n",
       "      <th>valor_previsto</th>\n",
       "    </tr>\n",
       "  </thead>\n",
       "  <tbody>\n",
       "    <tr>\n",
       "      <th>0</th>\n",
       "      <td>-2.251309</td>\n",
       "      <td>-5.608950</td>\n",
       "    </tr>\n",
       "    <tr>\n",
       "      <th>1</th>\n",
       "      <td>-5.934039</td>\n",
       "      <td>-4.836085</td>\n",
       "    </tr>\n",
       "    <tr>\n",
       "      <th>2</th>\n",
       "      <td>-4.977396</td>\n",
       "      <td>-4.063219</td>\n",
       "    </tr>\n",
       "    <tr>\n",
       "      <th>3</th>\n",
       "      <td>-5.277516</td>\n",
       "      <td>-3.290354</td>\n",
       "    </tr>\n",
       "    <tr>\n",
       "      <th>4</th>\n",
       "      <td>-0.611290</td>\n",
       "      <td>-2.517489</td>\n",
       "    </tr>\n",
       "    <tr>\n",
       "      <th>5</th>\n",
       "      <td>-6.155709</td>\n",
       "      <td>-1.744623</td>\n",
       "    </tr>\n",
       "    <tr>\n",
       "      <th>6</th>\n",
       "      <td>2.726466</td>\n",
       "      <td>-0.971758</td>\n",
       "    </tr>\n",
       "    <tr>\n",
       "      <th>7</th>\n",
       "      <td>-1.496098</td>\n",
       "      <td>-0.198893</td>\n",
       "    </tr>\n",
       "    <tr>\n",
       "      <th>8</th>\n",
       "      <td>1.453868</td>\n",
       "      <td>0.573973</td>\n",
       "    </tr>\n",
       "    <tr>\n",
       "      <th>9</th>\n",
       "      <td>1.106522</td>\n",
       "      <td>1.346838</td>\n",
       "    </tr>\n",
       "    <tr>\n",
       "      <th>10</th>\n",
       "      <td>5.318953</td>\n",
       "      <td>2.119703</td>\n",
       "    </tr>\n",
       "    <tr>\n",
       "      <th>11</th>\n",
       "      <td>-0.936071</td>\n",
       "      <td>2.892569</td>\n",
       "    </tr>\n",
       "    <tr>\n",
       "      <th>12</th>\n",
       "      <td>3.328850</td>\n",
       "      <td>3.665434</td>\n",
       "    </tr>\n",
       "    <tr>\n",
       "      <th>13</th>\n",
       "      <td>3.995049</td>\n",
       "      <td>4.438299</td>\n",
       "    </tr>\n",
       "    <tr>\n",
       "      <th>14</th>\n",
       "      <td>7.820170</td>\n",
       "      <td>5.211165</td>\n",
       "    </tr>\n",
       "    <tr>\n",
       "      <th>15</th>\n",
       "      <td>4.142323</td>\n",
       "      <td>5.984030</td>\n",
       "    </tr>\n",
       "    <tr>\n",
       "      <th>16</th>\n",
       "      <td>6.786723</td>\n",
       "      <td>6.756895</td>\n",
       "    </tr>\n",
       "    <tr>\n",
       "      <th>17</th>\n",
       "      <td>6.165336</td>\n",
       "      <td>7.529761</td>\n",
       "    </tr>\n",
       "    <tr>\n",
       "      <th>18</th>\n",
       "      <td>8.794954</td>\n",
       "      <td>8.302626</td>\n",
       "    </tr>\n",
       "    <tr>\n",
       "      <th>19</th>\n",
       "      <td>10.665630</td>\n",
       "      <td>9.075492</td>\n",
       "    </tr>\n",
       "  </tbody>\n",
       "</table>\n",
       "</div>"
      ],
      "text/plain": [
       "    valor_atual  valor_previsto\n",
       "0     -2.251309       -5.608950\n",
       "1     -5.934039       -4.836085\n",
       "2     -4.977396       -4.063219\n",
       "3     -5.277516       -3.290354\n",
       "4     -0.611290       -2.517489\n",
       "5     -6.155709       -1.744623\n",
       "6      2.726466       -0.971758\n",
       "7     -1.496098       -0.198893\n",
       "8      1.453868        0.573973\n",
       "9      1.106522        1.346838\n",
       "10     5.318953        2.119703\n",
       "11    -0.936071        2.892569\n",
       "12     3.328850        3.665434\n",
       "13     3.995049        4.438299\n",
       "14     7.820170        5.211165\n",
       "15     4.142323        5.984030\n",
       "16     6.786723        6.756895\n",
       "17     6.165336        7.529761\n",
       "18     8.794954        8.302626\n",
       "19    10.665630        9.075492"
      ]
     },
     "execution_count": 8,
     "metadata": {},
     "output_type": "execute_result"
    }
   ],
   "source": [
    "# Dataframe com os valores atuais e os previstos.\n",
    "new_df = pd.DataFrame({\"valor_atual\": y, \"valor_previsto\": y_pred})\n",
    "new_df"
   ]
  },
  {
   "cell_type": "code",
   "execution_count": 9,
   "id": "079560d8",
   "metadata": {},
   "outputs": [
    {
     "data": {
      "image/png": "[encoded data removed]",
      "text/plain": [
       "<Figure size 640x480 with 1 Axes>"
      ]
     },
     "metadata": {},
     "output_type": "display_data"
    }
   ],
   "source": [
    "new_df.plot(kind = 'bar')\n",
    "plt.show()"
   ]
  },
  {
   "cell_type": "markdown",
   "id": "e66cedd1",
   "metadata": {},
   "source": [
    "### Referências Bibliográficas\n",
    "\n",
    "Estatística e Ciências de Dados - Morettin e Singer 2022\n",
    "\n",
    "Data Science from scratch - Grus 2019"
   ]
  }
 ],
 "metadata": {
  "kernelspec": {
   "display_name": "Python 3 (ipykernel)",
   "language": "python",
   "name": "python3"
  },
  "language_info": {
   "codemirror_mode": {
    "name": "ipython",
    "version": 3
   },
   "file_extension": ".py",
   "mimetype": "text/x-python",
   "name": "python",
   "nbconvert_exporter": "python",
   "pygments_lexer": "ipython3",
   "version": "3.8.5"
  }
 },
 "nbformat": 4,
 "nbformat_minor": 5
}
